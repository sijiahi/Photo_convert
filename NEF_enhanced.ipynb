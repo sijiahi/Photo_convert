{
 "cells": [
  {
   "cell_type": "code",
   "execution_count": 5,
   "id": "90c5f0e3-f5f3-4aac-88f5-c7410b6191e5",
   "metadata": {},
   "outputs": [
    {
     "name": "stderr",
     "output_type": "stream",
     "text": [
      "/Users/sijiazhang/miniforge3/envs/py38/lib/python3.8/site-packages/rawpy/enhance.py:24: UserWarning: OpenCV not found, install for faster processing (error: No module named 'cv2')\n",
      "  warnings.warn('OpenCV not found, install for faster processing (error: ' + str(e) + ')')\n"
     ]
    }
   ],
   "source": [
    "import rawpy\n",
    "import imageio\n",
    "from tqdm import tqdm\n",
    "import rawpy.enhance\n"
   ]
  },
  {
   "cell_type": "code",
   "execution_count": 6,
   "id": "e0082784-f58b-4d3a-b84c-1e163bc996e3",
   "metadata": {},
   "outputs": [],
   "source": [
    "def is_image(filename):\n",
    "    return any(filename.endswith(extension) for extension in ['.NEF', ''])"
   ]
  },
  {
   "cell_type": "code",
   "execution_count": 7,
   "id": "4c7ceddb-e4d2-4925-bc6d-f710b0aa52b8",
   "metadata": {},
   "outputs": [],
   "source": [
    "path = '/Users/sijiazhang/Desktop/20210621张思嘉/'\n",
    "def get_img_file(file_name):\n",
    "    image_filenames = []\n",
    "    for parent, dirnames, filenames in os.walk(file_name):\n",
    "        for filename in filenames:\n",
    "            #print(filename)\n",
    "            if filename.lower().endswith('.nef'):\n",
    "                image_filenames.append(os.path.join(parent, filename))\n",
    "        return image_filenames\n",
    "image_filenames = get_img_file(path)"
   ]
  },
  {
   "cell_type": "code",
   "execution_count": null,
   "id": "bedce0a3-a80c-4ee5-b76c-5ac76ecd5f19",
   "metadata": {},
   "outputs": [
    {
     "name": "stderr",
     "output_type": "stream",
     "text": [
      "/Users/sijiazhang/miniforge3/envs/py38/lib/python3.8/site-packages/skimage/filters/rank/generic.py:264: UserWarning: Bad rank filter performance is expected due to a large number of bins (8211), equivalent to an approximate bitdepth of 13.0.\n",
      "  image, selem, out, mask, n_bins = _preprocess_input(image, selem,\n",
      "/Users/sijiazhang/miniforge3/envs/py38/lib/python3.8/site-packages/skimage/filters/rank/generic.py:264: UserWarning: Bad rank filter performance is expected due to a large number of bins (5207), equivalent to an approximate bitdepth of 12.3.\n",
      "  image, selem, out, mask, n_bins = _preprocess_input(image, selem,\n",
      "/Users/sijiazhang/miniforge3/envs/py38/lib/python3.8/site-packages/skimage/filters/rank/generic.py:264: UserWarning: Bad rank filter performance is expected due to a large number of bins (9830), equivalent to an approximate bitdepth of 13.3.\n",
      "  image, selem, out, mask, n_bins = _preprocess_input(image, selem,\n",
      "/Users/sijiazhang/miniforge3/envs/py38/lib/python3.8/site-packages/skimage/filters/rank/generic.py:264: UserWarning: Bad rank filter performance is expected due to a large number of bins (3159), equivalent to an approximate bitdepth of 11.6.\n",
      "  image, selem, out, mask, n_bins = _preprocess_input(image, selem,\n",
      "/Users/sijiazhang/miniforge3/envs/py38/lib/python3.8/site-packages/skimage/filters/rank/generic.py:264: UserWarning: Bad rank filter performance is expected due to a large number of bins (2029), equivalent to an approximate bitdepth of 11.0.\n",
      "  image, selem, out, mask, n_bins = _preprocess_input(image, selem,\n",
      "/Users/sijiazhang/miniforge3/envs/py38/lib/python3.8/site-packages/skimage/filters/rank/generic.py:264: UserWarning: Bad rank filter performance is expected due to a large number of bins (13598), equivalent to an approximate bitdepth of 13.7.\n",
      "  image, selem, out, mask, n_bins = _preprocess_input(image, selem,\n",
      "/Users/sijiazhang/miniforge3/envs/py38/lib/python3.8/site-packages/skimage/filters/rank/generic.py:264: UserWarning: Bad rank filter performance is expected due to a large number of bins (9728), equivalent to an approximate bitdepth of 13.2.\n",
      "  image, selem, out, mask, n_bins = _preprocess_input(image, selem,\n",
      "/Users/sijiazhang/miniforge3/envs/py38/lib/python3.8/site-packages/skimage/filters/rank/generic.py:264: UserWarning: Bad rank filter performance is expected due to a large number of bins (5390), equivalent to an approximate bitdepth of 12.4.\n",
      "  image, selem, out, mask, n_bins = _preprocess_input(image, selem,\n",
      "/Users/sijiazhang/miniforge3/envs/py38/lib/python3.8/site-packages/skimage/filters/rank/generic.py:264: UserWarning: Bad rank filter performance is expected due to a large number of bins (9636), equivalent to an approximate bitdepth of 13.2.\n",
      "  image, selem, out, mask, n_bins = _preprocess_input(image, selem,\n",
      "/Users/sijiazhang/miniforge3/envs/py38/lib/python3.8/site-packages/skimage/filters/rank/generic.py:264: UserWarning: Bad rank filter performance is expected due to a large number of bins (4789), equivalent to an approximate bitdepth of 12.2.\n",
      "  image, selem, out, mask, n_bins = _preprocess_input(image, selem,\n",
      "/Users/sijiazhang/miniforge3/envs/py38/lib/python3.8/site-packages/skimage/filters/rank/generic.py:264: UserWarning: Bad rank filter performance is expected due to a large number of bins (2313), equivalent to an approximate bitdepth of 11.2.\n",
      "  image, selem, out, mask, n_bins = _preprocess_input(image, selem,\n"
     ]
    }
   ],
   "source": [
    "if not os.path.exists(path+'/enhanced/'):\n",
    "    os.mkdir(path+'/enhanced/')\n",
    "bad_pixels=rawpy.enhance.find_bad_pixels(image_filenames)\n",
    "for i in tqdm(range(len(image_filenames))):\n",
    "    image = image_filenames[i]\n",
    "    with rawpy.imread(image) as raw:\n",
    "        rawpy.enhance.repair_bad_pixels(raw, bad_pixels, method='median')\n",
    "        rgb = raw.postprocess()\n",
    "    file_path,file_name = os.path.split(image);\n",
    "    imageio.imsave(file_path+\"/enhanced/\"+os.path.splitext(file_name)[0]+ '.jpg', rgb)"
   ]
  }
 ],
 "metadata": {
  "kernelspec": {
   "display_name": "Python 3",
   "language": "python",
   "name": "python3"
  },
  "language_info": {
   "codemirror_mode": {
    "name": "ipython",
    "version": 3
   },
   "file_extension": ".py",
   "mimetype": "text/x-python",
   "name": "python",
   "nbconvert_exporter": "python",
   "pygments_lexer": "ipython3",
   "version": "3.8.6"
  }
 },
 "nbformat": 4,
 "nbformat_minor": 5
}
