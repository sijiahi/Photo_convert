{
 "cells": [
  {
   "cell_type": "code",
   "execution_count": 1,
   "id": "90c5f0e3-f5f3-4aac-88f5-c7410b6191e5",
   "metadata": {},
   "outputs": [],
   "source": [
    "import rawpy\n",
    "import imageio\n",
    "import os\n",
    "from tqdm import tqdm"
   ]
  },
  {
   "cell_type": "code",
   "execution_count": 2,
   "id": "e0082784-f58b-4d3a-b84c-1e163bc996e3",
   "metadata": {},
   "outputs": [],
   "source": [
    "def is_image(filename):\n",
    "    return any(filename.endswith(extension) for extension in ['.NEF', ''])"
   ]
  },
  {
   "cell_type": "code",
   "execution_count": 12,
   "id": "4c7ceddb-e4d2-4925-bc6d-f710b0aa52b8",
   "metadata": {},
   "outputs": [],
   "source": [
    "path = '/Users/sijiazhang/Desktop/20210621张思嘉/'\n",
    "def get_img_file(file_name):\n",
    "    image_filenames = []\n",
    "    for parent, dirnames, filenames in os.walk(file_name):\n",
    "        for filename in filenames:\n",
    "            #print(filename)\n",
    "            if filename.lower().endswith('.nef'):\n",
    "                image_filenames.append(os.path.join(parent, filename))\n",
    "        return image_filenames\n",
    "image_filenames = get_img_file(path)"
   ]
  },
  {
   "cell_type": "code",
   "execution_count": 14,
   "id": "bedce0a3-a80c-4ee5-b76c-5ac76ecd5f19",
   "metadata": {},
   "outputs": [
    {
     "name": "stderr",
     "output_type": "stream",
     "text": [
      "100%|██████████| 165/165 [03:43<00:00,  1.36s/it]\n"
     ]
    }
   ],
   "source": [
    "if not os.path.exists(path+'/JPG/'):\n",
    "    os.mkdir(path+'/JPG/')\n",
    "for i in tqdm(range(len(image_filenames))):\n",
    "    image = image_filenames[i]\n",
    "    with rawpy.imread(image) as raw:\n",
    "        rgb = raw.postprocess()\n",
    "    file_path,file_name = os.path.split(image);\n",
    "    imageio.imsave(file_path+\"/JPG/\"+os.path.splitext(file_name)[0]+ '.jpg', rgb)"
   ]
  },
  {
   "cell_type": "code",
   "execution_count": null,
   "id": "d6c5e94c-4c9b-4db9-a2ee-562988a718c1",
   "metadata": {},
   "outputs": [],
   "source": []
  }
 ],
 "metadata": {
  "kernelspec": {
   "display_name": "Python 3",
   "language": "python",
   "name": "python3"
  },
  "language_info": {
   "codemirror_mode": {
    "name": "ipython",
    "version": 3
   },
   "file_extension": ".py",
   "mimetype": "text/x-python",
   "name": "python",
   "nbconvert_exporter": "python",
   "pygments_lexer": "ipython3",
   "version": "3.8.6"
  }
 },
 "nbformat": 4,
 "nbformat_minor": 5
}
